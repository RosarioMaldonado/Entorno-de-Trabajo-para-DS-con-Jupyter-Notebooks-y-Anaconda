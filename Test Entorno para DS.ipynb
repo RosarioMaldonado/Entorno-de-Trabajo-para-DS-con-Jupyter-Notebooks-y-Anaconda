{
  "nbformat": 4,
  "nbformat_minor": 0,
  "metadata": {
    "colab": {
      "name": "Test Entorno para DS.ipynb",
      "provenance": []
    },
    "kernelspec": {
      "name": "python3",
      "display_name": "Python 3"
    },
    "language_info": {
      "name": "python"
    }
  },
  "cells": [
    {
      "cell_type": "markdown",
      "source": [
        "### Entorno de Trabajo para Ciencia de Datos con Jupyter Notebooks y Anaconda"
      ],
      "metadata": {
        "id": "82tYmZ_a8eyC"
      }
    },
    {
      "cell_type": "markdown",
      "source": [
        "* ¿Qué es un notebook para ciencia de datos?\n",
        "      Documento que contiene código de programación y elementos de texto enriquecido.\n",
        "\n",
        "\n",
        "* ¿Qué siginifica REPL?\n",
        "      Ciclo de Lectura-Evaluación-Impresión.\n",
        "\n",
        "\n",
        "* Dadas las características de los notebooks y los scripts, ¿Cuál es mejor?\n",
        "      Ambos son útiles, depende del problema y objetivo que se tenga.\n",
        "\n",
        "\n",
        "* ¿Cuál NO es un sistema que incluya el funcionamiento de notebook en su interfaz?\n",
        "      SSH\n",
        "\n",
        "\n",
        "* Al hacer ciencia de datos, puede escoger principalmente entre trabajar con notebooks de forma local o en la nube. ¿Cuál opción es mejor?\n",
        "      Ambos son útiles, depende del problema y objetivo que se tenga.\n",
        "\n",
        "\n",
        "* ¿Cuál es una ventaja de utilizar servicios en la nube de Jupyter Notebooks?\n",
        "      Acceso a las notebooks y cambios que realizas siempre desde cualquier computadora.\n",
        "\n",
        "\n",
        "* ¿Markdown es un lenguaje de marcado que se puede utilizar dentro de Jupyter Notebooks?\n",
        "      Verdadero\n",
        "\n",
        "\n",
        "* Google Colab es ampliamente utilizado en el área de Machine Learning ¿cuál podría ser una de las razones?\n",
        "      Servicio en la nube que provee de uso gratuito de GPUs y TPUs (poder de cómputo).\n",
        "\n",
        "\n",
        "* De las siguientes opciones, ¿cuál es un entorno de trabajo de Jupyter Notebooks basado a nivel de proyecto?\n",
        "      Deepnote\n",
        "\n",
        "\n",
        "* ¿Cuál de los siguientes servicios/tipos de Jupyter Notebooks te permite crear gráficas sin necesidad de código?\n",
        "      Deepnote\n",
        "\n",
        "\n",
        "* ¿Cuál de los siguientes tipos de notebooks (o servicios) te permite crear un portafolio de trabajo en forma de notebooks publicados?\n",
        "      Deepnote\n",
        "\n",
        "\n",
        "* Un editor de código soporta:\n",
        "      Múltiples lenguajes de programación.\n",
        "\n",
        "\n",
        "* VSCode a través de extensiones te permite tenerun ambiente de notebooks integrado. En ellos puede:\n",
        "      Hacer uso de las extensiones que tengas instaladas (e.g. formateado de código).\n",
        "\n",
        "\n",
        "* ¿Qué son los ambientes virtuales en Python?\n",
        "      Un ambiente para cada proyecto que puede tener sus propias dependencias independientes de otros proyectos/ambientes.\n",
        "\n",
        "\n",
        "* Conda es un gestionador de paquetes, dependencias y entornos para cualquier lenguaje de programación. Para ahcer uso de este debes instalar:\n",
        "      Miniconda o Anaconda.\n",
        "\n",
        "\n",
        "* ¿Qué es mamba en cuestión de manejo de ambientes virtuales con Python?\n",
        "      Una reimplementación del manejador de paquetes conda en C++.\n",
        "\n",
        "\n",
        "* Mamba permite acelerar la creación de ambientes virtuales a través de la descarga paralela de datos y paquetes. ¿Por qué adaptarse a mamba resulta tan familiar si ya sabes conda?\n",
        "      Su sintaxis de comandos está construida de tal forma de que sea lo más similar a la de conda.\n",
        "\n",
        "\n",
        "* ¿En qué consiste el algoritmo de divide y vencerás en el contexto de ambientes virtuales?\n",
        "      Si se tiene un proyecto muy grande o las dependencias de este pueden ser separadas en componentes más pequeños, es mucho mejor tenerlas separadas, pues mantenerlas de forma estable será mucho más sencillo.\n",
        "\n",
        "\n",
        "\n",
        "\n"
      ],
      "metadata": {
        "id": "uLG5SCIT8mDb"
      }
    },
    {
      "cell_type": "code",
      "source": [
        ""
      ],
      "metadata": {
        "id": "Yj-lQLJT3vuZ"
      },
      "execution_count": null,
      "outputs": []
    }
  ]
}